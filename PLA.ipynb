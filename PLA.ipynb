{
 "cells": [
  {
   "cell_type": "code",
   "execution_count": null,
   "id": "43bf6571-166b-416d-8ebe-f415e572e3a8",
   "metadata": {},
   "outputs": [],
   "source": [
    "!pip3 install matplotlib"
   ]
  },
  {
   "cell_type": "code",
   "execution_count": null,
   "id": "4e67a90e-d7bf-4f40-bf3b-7a394ca8ee40",
   "metadata": {},
   "outputs": [],
   "source": [
    "import random as rd\n",
    "x1=[rd.gauss(2,0.5) for i in range(10)]\n",
    "y1=[rd.gauss(2,0.5) for i in range(10)]\n",
    "\n",
    "x2=[rd.gauss(4,0.5) for i in range(10)]\n",
    "y2=[rd.gauss(4,0.5) for i in range(10)]"
   ]
  },
  {
   "cell_type": "code",
   "execution_count": null,
   "id": "5adb8d96-7047-47e9-9a50-e135d5668dfa",
   "metadata": {},
   "outputs": [],
   "source": [
    "i1=[[1,x1[i],y1[i]] for i in range(10)]\n",
    "i2=[[1,x2[i],y2[i]] for i in range(10)]\n",
    "data1=[[i,1] for i in i1]\n",
    "data2=[[i,-1] for i in i2]\n",
    "data=data1+data2\n",
    "data\n"
   ]
  },
  {
   "cell_type": "code",
   "execution_count": null,
   "id": "f0338cb1-d5bb-4fa6-a93c-85c4037b95f7",
   "metadata": {},
   "outputs": [],
   "source": [
    "import matplotlib.pyplot as plt\n",
    "plt.xlim(0,6)\n",
    "plt.ylim(0,6)\n",
    "plt.axis('equal')\n",
    "plt.scatter(x1,y1, color = 'r')\n",
    "plt.scatter(x2,y2, color = 'b')\n"
   ]
  },
  {
   "cell_type": "code",
   "execution_count": null,
   "id": "52ab7ece-c4d3-4c50-ad3e-c46c20411c03",
   "metadata": {},
   "outputs": [],
   "source": [
    "def plotline(w,ll,ur):\n",
    "    if w[2]!=0:\n",
    "        p1=(ll[0],(-w[0]-w[1]*ll[0])/w[2])\n",
    "        p2=(ur[0],(-w[0]-w[1]*ur[0])/w[2])\n",
    "        return p1,p2\n",
    "#    if w[1]!=0:\n",
    "#        p1=((-w[0]-w[2]*ll[1])/w[1],ll[1])\n",
    "#        p2=((-w[0]-w[2]*ur[1])/w[1],ur[1])\n",
    "#        return p1,p2\n"
   ]
  },
  {
   "cell_type": "code",
   "execution_count": null,
   "id": "68a8fa1b-7e10-410a-b5e9-57373c5ea6f2",
   "metadata": {},
   "outputs": [],
   "source": [
    "def dot(v,w):\n",
    "    result=0\n",
    "    for i in range(len(v)):\n",
    "        result =result+v[i]*w[i]\n",
    "    return result\n",
    "dot([1,2],[3,4])"
   ]
  },
  {
   "cell_type": "code",
   "execution_count": null,
   "id": "68200674-ff79-4c7d-9745-e7716bbd779e",
   "metadata": {},
   "outputs": [],
   "source": [
    "d=rd.sample(data,k=1)\n",
    "d[0]"
   ]
  },
  {
   "cell_type": "code",
   "execution_count": null,
   "id": "776ecae1-1091-4406-ba6e-d15688299417",
   "metadata": {},
   "outputs": [],
   "source": [
    "def vadd(v,w):\n",
    "    return [v[i]+w[i] for i in range(len(v))]\n",
    "def vmul(s,v):\n",
    "    return [s*v[i] for i in range(len(v))]\n"
   ]
  },
  {
   "cell_type": "code",
   "execution_count": null,
   "id": "04b71d2a-53b8-48e0-ad0d-5357f64e9041",
   "metadata": {},
   "outputs": [],
   "source": [
    "w= [1,1,1]\n",
    "plt.scatter(x1,y1, color = 'r')\n",
    "plt.scatter(x2,y2, color = 'b')\n",
    "p1,p2=plotline(w,[-10,10],[10,10])\n",
    "plt.plot([p1[0],p2[0]],[p1[1],p2[1]])\n",
    "plt.xlim(-10,10)\n",
    "plt.ylim(-10,10)\n",
    "plt.axis('equal')"
   ]
  },
  {
   "cell_type": "code",
   "execution_count": null,
   "id": "84f7e03d-9060-49a4-b72b-9816d9ae2a3e",
   "metadata": {},
   "outputs": [],
   "source": [
    "d=rd.sample(data,k=1)\n",
    "d=d[0]\n",
    "if (dot(w,d[0])>0 and d[1]==1) or (dot(w,d[0])<0 and d[1]==-1):\n",
    "    pass\n",
    "else:\n",
    "    w=vadd(w,vmul(d[1],d[0]))\n",
    "plt.scatter(x1,y1, color = 'r')\n",
    "plt.scatter(x2,y2, color = 'b')\n",
    "p1,p2=plotline(w,[-10,10],[10,10])\n",
    "plt.plot([p1[0],p2[0]],[p1[1],p2[1]])\n",
    "plt.xlim(-10,10)\n",
    "plt.ylim(-10,10)\n",
    "plt.axis('equal')"
   ]
  }
 ],
 "metadata": {
  "kernelspec": {
   "display_name": "Python 3 (ipykernel)",
   "language": "python",
   "name": "python3"
  },
  "language_info": {
   "codemirror_mode": {
    "name": "ipython",
    "version": 3
   },
   "file_extension": ".py",
   "mimetype": "text/x-python",
   "name": "python",
   "nbconvert_exporter": "python",
   "pygments_lexer": "ipython3",
   "version": "3.8.13"
  }
 },
 "nbformat": 4,
 "nbformat_minor": 5
}
